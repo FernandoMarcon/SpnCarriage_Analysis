{
 "cells": [
  {
   "cell_type": "code",
   "execution_count": 1,
   "metadata": {},
   "outputs": [
    {
     "data": {
      "text/html": [
       "<style>\n",
       ".dl-inline {width: auto; margin:0; padding: 0}\n",
       ".dl-inline>dt, .dl-inline>dd {float: none; width: auto; display: inline-block}\n",
       ".dl-inline>dt::after {content: \":\\0020\"; padding-right: .5ex}\n",
       ".dl-inline>dt:not(:first-of-type) {padding-left: .5ex}\n",
       "</style><dl class=dl-inline><dt>tidyverse</dt><dd>TRUE</dd><dt>data.table</dt><dd>TRUE</dd><dt>MultiAssayExperiment</dt><dd>TRUE</dd></dl>\n"
      ],
      "text/latex": [
       "\\begin{description*}\n",
       "\\item[tidyverse] TRUE\n",
       "\\item[data.table] TRUE\n",
       "\\item[MultiAssayExperiment] TRUE\n",
       "\\end{description*}\n"
      ],
      "text/markdown": [
       "tidyverse\n",
       ":   TRUEdata.table\n",
       ":   TRUEMultiAssayExperiment\n",
       ":   TRUE\n",
       "\n"
      ],
      "text/plain": [
       "           tidyverse           data.table MultiAssayExperiment \n",
       "                TRUE                 TRUE                 TRUE "
      ]
     },
     "metadata": {},
     "output_type": "display_data"
    }
   ],
   "source": [
    "rm(list = ls())\n",
    "\n",
    "setwd('~/Documents/work/SpnCarriage_Analysis/')\n",
    "\n",
    "pkgs <- c('tidyverse', 'data.table','MultiAssayExperiment')\n",
    "suppressPackageStartupMessages(sapply(pkgs, require, character.only = T))"
   ]
  },
  {
   "cell_type": "markdown",
   "metadata": {},
   "source": [
    "# Data\n",
    "├── AGES  \n",
    "│   └── Robj  \n",
    "│       └── AGES_studyObj.rds  \n",
    "├── LAIV1  \n",
    "│   ├── rnaseq  \n",
    "│   │   ├── LAIV1_rnaseq_data.tsv  \n",
    "│   │   └── LAIV1_rnaseq_meta.tsv  \n",
    "│   └── template.tsv  \n",
    "├── LAIV2  \n",
    "│   ├── LAIV2_rnaseq_data.tsv  \n",
    "│   ├── LAIV2_rnaseq_meta.txt  \n",
    "├── MIXED  \n",
    "│   └── METADATA  \n",
    "│       ├── all_vol_info.tsv  \n",
    "│       ├── grouping_all_volunteers.tsv  \n",
    "│       ├── metadata_LAIV1_2.tsv   \n",
    "│       ├── template_nasal_cells.tsv  \n",
    "│       ├── volunteer_grouping.tsv  \n",
    "│       └── volunteer_info.tsv  \n",
    "└── MUCOSAL  \n",
    "└── rnaseq  \n",
    "├── PILOT_rnaseq_data.tsv  \n",
    "└── PILOT_rnaseq_meta.tsv  "
   ]
  },
  {
   "cell_type": "markdown",
   "metadata": {},
   "source": [
    "# Tidy data"
   ]
  },
  {
   "cell_type": "markdown",
   "metadata": {},
   "source": [
    "## Mucosal"
   ]
  },
  {
   "cell_type": "code",
   "execution_count": 2,
   "metadata": {},
   "outputs": [],
   "source": [
    "count_data <- fread('data//raw_data/MUCOSAL/rnaseq//PILOT_rnaseq_data.tsv') %>% data.frame(row.names = 1)"
   ]
  },
  {
   "cell_type": "code",
   "execution_count": 3,
   "metadata": {},
   "outputs": [
    {
     "data": {
      "text/html": [
       "<table class=\"dataframe\">\n",
       "<caption>A data.frame: 4 × 10</caption>\n",
       "<thead>\n",
       "\t<tr><th></th><th scope=col>S00149245</th><th scope=col>S00149858</th><th scope=col>S00149406</th><th scope=col>S00150037</th><th scope=col>S00149384</th><th scope=col>S00149461</th><th scope=col>S00149244</th><th scope=col>S00149859</th><th scope=col>S00149856</th><th scope=col>S00150011</th></tr>\n",
       "\t<tr><th></th><th scope=col>&lt;int&gt;</th><th scope=col>&lt;int&gt;</th><th scope=col>&lt;int&gt;</th><th scope=col>&lt;int&gt;</th><th scope=col>&lt;int&gt;</th><th scope=col>&lt;int&gt;</th><th scope=col>&lt;int&gt;</th><th scope=col>&lt;int&gt;</th><th scope=col>&lt;int&gt;</th><th scope=col>&lt;int&gt;</th></tr>\n",
       "</thead>\n",
       "<tbody>\n",
       "\t<tr><th scope=row>ENSG00000000003</th><td>3996</td><td>3121</td><td>4926</td><td>4836</td><td>3092</td><td>3978</td><td>2331</td><td>1449</td><td>2333</td><td>2279</td></tr>\n",
       "\t<tr><th scope=row>ENSG00000000005</th><td>   8</td><td>  11</td><td>   3</td><td>   6</td><td>   5</td><td>   5</td><td>   7</td><td>   9</td><td>   4</td><td>   2</td></tr>\n",
       "\t<tr><th scope=row>ENSG00000000419</th><td> 671</td><td> 715</td><td> 867</td><td> 781</td><td> 764</td><td> 685</td><td> 812</td><td> 277</td><td> 723</td><td> 736</td></tr>\n",
       "\t<tr><th scope=row>ENSG00000000457</th><td> 889</td><td>1022</td><td> 989</td><td> 881</td><td> 869</td><td>1026</td><td> 940</td><td> 780</td><td> 848</td><td> 724</td></tr>\n",
       "</tbody>\n",
       "</table>\n"
      ],
      "text/latex": [
       "A data.frame: 4 × 10\n",
       "\\begin{tabular}{r|llllllllll}\n",
       "  & S00149245 & S00149858 & S00149406 & S00150037 & S00149384 & S00149461 & S00149244 & S00149859 & S00149856 & S00150011\\\\\n",
       "  & <int> & <int> & <int> & <int> & <int> & <int> & <int> & <int> & <int> & <int>\\\\\n",
       "\\hline\n",
       "\tENSG00000000003 & 3996 & 3121 & 4926 & 4836 & 3092 & 3978 & 2331 & 1449 & 2333 & 2279\\\\\n",
       "\tENSG00000000005 &    8 &   11 &    3 &    6 &    5 &    5 &    7 &    9 &    4 &    2\\\\\n",
       "\tENSG00000000419 &  671 &  715 &  867 &  781 &  764 &  685 &  812 &  277 &  723 &  736\\\\\n",
       "\tENSG00000000457 &  889 & 1022 &  989 &  881 &  869 & 1026 &  940 &  780 &  848 &  724\\\\\n",
       "\\end{tabular}\n"
      ],
      "text/markdown": [
       "\n",
       "A data.frame: 4 × 10\n",
       "\n",
       "| <!--/--> | S00149245 &lt;int&gt; | S00149858 &lt;int&gt; | S00149406 &lt;int&gt; | S00150037 &lt;int&gt; | S00149384 &lt;int&gt; | S00149461 &lt;int&gt; | S00149244 &lt;int&gt; | S00149859 &lt;int&gt; | S00149856 &lt;int&gt; | S00150011 &lt;int&gt; |\n",
       "|---|---|---|---|---|---|---|---|---|---|---|\n",
       "| ENSG00000000003 | 3996 | 3121 | 4926 | 4836 | 3092 | 3978 | 2331 | 1449 | 2333 | 2279 |\n",
       "| ENSG00000000005 |    8 |   11 |    3 |    6 |    5 |    5 |    7 |    9 |    4 |    2 |\n",
       "| ENSG00000000419 |  671 |  715 |  867 |  781 |  764 |  685 |  812 |  277 |  723 |  736 |\n",
       "| ENSG00000000457 |  889 | 1022 |  989 |  881 |  869 | 1026 |  940 |  780 |  848 |  724 |\n",
       "\n"
      ],
      "text/plain": [
       "                S00149245 S00149858 S00149406 S00150037 S00149384 S00149461\n",
       "ENSG00000000003 3996      3121      4926      4836      3092      3978     \n",
       "ENSG00000000005    8        11         3         6         5         5     \n",
       "ENSG00000000419  671       715       867       781       764       685     \n",
       "ENSG00000000457  889      1022       989       881       869      1026     \n",
       "                S00149244 S00149859 S00149856 S00150011\n",
       "ENSG00000000003 2331      1449      2333      2279     \n",
       "ENSG00000000005    7         9         4         2     \n",
       "ENSG00000000419  812       277       723       736     \n",
       "ENSG00000000457  940       780       848       724     "
      ]
     },
     "metadata": {},
     "output_type": "display_data"
    }
   ],
   "source": [
    "count_data[1:4,1:10]"
   ]
  },
  {
   "cell_type": "code",
   "execution_count": 4,
   "metadata": {},
   "outputs": [
    {
     "data": {
      "text/html": [
       "<table class=\"dataframe\">\n",
       "<caption>A data.frame: 6 × 3</caption>\n",
       "<thead>\n",
       "\t<tr><th></th><th scope=col>sample_id</th><th scope=col>volunteer_id</th><th scope=col>timepoint</th></tr>\n",
       "\t<tr><th></th><th scope=col>&lt;chr&gt;</th><th scope=col>&lt;chr&gt;</th><th scope=col>&lt;chr&gt;</th></tr>\n",
       "</thead>\n",
       "<tbody>\n",
       "\t<tr><th scope=row>0100/015/007_baseline</th><td>S00149245</td><td>0100/015/007</td><td>baseline</td></tr>\n",
       "\t<tr><th scope=row>0100/015/007_D2</th><td>S00149858</td><td>0100/015/007</td><td>D2      </td></tr>\n",
       "\t<tr><th scope=row>0285/015/009_baseline</th><td>S00149406</td><td>0285/015/009</td><td>baseline</td></tr>\n",
       "\t<tr><th scope=row>0285/015/009_D2</th><td>S00150037</td><td>0285/015/009</td><td>D2      </td></tr>\n",
       "\t<tr><th scope=row>1000/015/002_D2</th><td>S00149384</td><td>1000/015/002</td><td>D2      </td></tr>\n",
       "\t<tr><th scope=row>1000/015/002_baseline</th><td>S00149461</td><td>1000/015/002</td><td>baseline</td></tr>\n",
       "</tbody>\n",
       "</table>\n"
      ],
      "text/latex": [
       "A data.frame: 6 × 3\n",
       "\\begin{tabular}{r|lll}\n",
       "  & sample\\_id & volunteer\\_id & timepoint\\\\\n",
       "  & <chr> & <chr> & <chr>\\\\\n",
       "\\hline\n",
       "\t0100/015/007\\_baseline & S00149245 & 0100/015/007 & baseline\\\\\n",
       "\t0100/015/007\\_D2 & S00149858 & 0100/015/007 & D2      \\\\\n",
       "\t0285/015/009\\_baseline & S00149406 & 0285/015/009 & baseline\\\\\n",
       "\t0285/015/009\\_D2 & S00150037 & 0285/015/009 & D2      \\\\\n",
       "\t1000/015/002\\_D2 & S00149384 & 1000/015/002 & D2      \\\\\n",
       "\t1000/015/002\\_baseline & S00149461 & 1000/015/002 & baseline\\\\\n",
       "\\end{tabular}\n"
      ],
      "text/markdown": [
       "\n",
       "A data.frame: 6 × 3\n",
       "\n",
       "| <!--/--> | sample_id &lt;chr&gt; | volunteer_id &lt;chr&gt; | timepoint &lt;chr&gt; |\n",
       "|---|---|---|---|\n",
       "| 0100/015/007_baseline | S00149245 | 0100/015/007 | baseline |\n",
       "| 0100/015/007_D2 | S00149858 | 0100/015/007 | D2       |\n",
       "| 0285/015/009_baseline | S00149406 | 0285/015/009 | baseline |\n",
       "| 0285/015/009_D2 | S00150037 | 0285/015/009 | D2       |\n",
       "| 1000/015/002_D2 | S00149384 | 1000/015/002 | D2       |\n",
       "| 1000/015/002_baseline | S00149461 | 1000/015/002 | baseline |\n",
       "\n"
      ],
      "text/plain": [
       "                      sample_id volunteer_id timepoint\n",
       "0100/015/007_baseline S00149245 0100/015/007 baseline \n",
       "0100/015/007_D2       S00149858 0100/015/007 D2       \n",
       "0285/015/009_baseline S00149406 0285/015/009 baseline \n",
       "0285/015/009_D2       S00150037 0285/015/009 D2       \n",
       "1000/015/002_D2       S00149384 1000/015/002 D2       \n",
       "1000/015/002_baseline S00149461 1000/015/002 baseline "
      ]
     },
     "metadata": {},
     "output_type": "display_data"
    }
   ],
   "source": [
    "pheno_data = fread('data//raw_data//MUCOSAL//rnaseq//PILOT_rnaseq_meta.tsv',data.table = F)\n",
    "colnames(count_data) <- rownames(pheno_data) <- with(pheno_data, paste0(volunteer_id,'_',timepoint))\n",
    "pheno_data = pheno_data %>% select(sample_id, volunteer_id, timepoint)\n",
    "head(pheno_data)"
   ]
  },
  {
   "cell_type": "code",
   "execution_count": 5,
   "metadata": {},
   "outputs": [
    {
     "data": {
      "text/plain": [
       "class: SummarizedExperiment \n",
       "dim: 60554 27 \n",
       "metadata(0):\n",
       "assays(1): ''\n",
       "rownames(60554): ENSG00000000003 ENSG00000000005 ... ENSGR0000280767\n",
       "  ENSGR0000281849\n",
       "rowData names(0):\n",
       "colnames(27): 0100/015/007_baseline 0100/015/007_D2 ...\n",
       "  1019/015/023_baseline 1019/015/023_D2\n",
       "colData names(3): sample_id volunteer_id timepoint"
      ]
     },
     "metadata": {},
     "output_type": "display_data"
    }
   ],
   "source": [
    "rnaseq_exp = SummarizedExperiment(assays = count_data,colData = pheno_data)\n",
    "rnaseq_exp"
   ]
  },
  {
   "cell_type": "code",
   "execution_count": 6,
   "metadata": {},
   "outputs": [],
   "source": [
    "saveRDS(rnaseq_exp, 'data//tidy_data/MUCOSAL_rnaseq.rds')"
   ]
  },
  {
   "cell_type": "markdown",
   "metadata": {},
   "source": [
    "## LAIV1"
   ]
  },
  {
   "cell_type": "code",
   "execution_count": 7,
   "metadata": {},
   "outputs": [],
   "source": [
    "count_data <- fread('data//raw_data//LAIV1//rnaseq//LAIV1_rnaseq_data.tsv') %>% data.frame(row.names=1)"
   ]
  },
  {
   "cell_type": "code",
   "execution_count": 8,
   "metadata": {},
   "outputs": [
    {
     "data": {
      "text/html": [
       "<table class=\"dataframe\">\n",
       "<caption>A data.frame: 4 × 5</caption>\n",
       "<thead>\n",
       "\t<tr><th></th><th scope=col>S00163703</th><th scope=col>S00162909</th><th scope=col>S00165160</th><th scope=col>S00156618</th><th scope=col>S00155297</th></tr>\n",
       "\t<tr><th></th><th scope=col>&lt;int&gt;</th><th scope=col>&lt;int&gt;</th><th scope=col>&lt;int&gt;</th><th scope=col>&lt;int&gt;</th><th scope=col>&lt;int&gt;</th></tr>\n",
       "</thead>\n",
       "<tbody>\n",
       "\t<tr><th scope=row>ENSG00000000003</th><td>5541</td><td>5798</td><td>5080</td><td>3194</td><td>3047</td></tr>\n",
       "\t<tr><th scope=row>ENSG00000000005</th><td>   0</td><td>   0</td><td>   0</td><td>   0</td><td>   0</td></tr>\n",
       "\t<tr><th scope=row>ENSG00000000419</th><td> 981</td><td> 979</td><td> 743</td><td> 681</td><td> 544</td></tr>\n",
       "\t<tr><th scope=row>ENSG00000000457</th><td> 762</td><td> 820</td><td> 651</td><td> 433</td><td> 394</td></tr>\n",
       "</tbody>\n",
       "</table>\n"
      ],
      "text/latex": [
       "A data.frame: 4 × 5\n",
       "\\begin{tabular}{r|lllll}\n",
       "  & S00163703 & S00162909 & S00165160 & S00156618 & S00155297\\\\\n",
       "  & <int> & <int> & <int> & <int> & <int>\\\\\n",
       "\\hline\n",
       "\tENSG00000000003 & 5541 & 5798 & 5080 & 3194 & 3047\\\\\n",
       "\tENSG00000000005 &    0 &    0 &    0 &    0 &    0\\\\\n",
       "\tENSG00000000419 &  981 &  979 &  743 &  681 &  544\\\\\n",
       "\tENSG00000000457 &  762 &  820 &  651 &  433 &  394\\\\\n",
       "\\end{tabular}\n"
      ],
      "text/markdown": [
       "\n",
       "A data.frame: 4 × 5\n",
       "\n",
       "| <!--/--> | S00163703 &lt;int&gt; | S00162909 &lt;int&gt; | S00165160 &lt;int&gt; | S00156618 &lt;int&gt; | S00155297 &lt;int&gt; |\n",
       "|---|---|---|---|---|---|\n",
       "| ENSG00000000003 | 5541 | 5798 | 5080 | 3194 | 3047 |\n",
       "| ENSG00000000005 |    0 |    0 |    0 |    0 |    0 |\n",
       "| ENSG00000000419 |  981 |  979 |  743 |  681 |  544 |\n",
       "| ENSG00000000457 |  762 |  820 |  651 |  433 |  394 |\n",
       "\n"
      ],
      "text/plain": [
       "                S00163703 S00162909 S00165160 S00156618 S00155297\n",
       "ENSG00000000003 5541      5798      5080      3194      3047     \n",
       "ENSG00000000005    0         0         0         0         0     \n",
       "ENSG00000000419  981       979       743       681       544     \n",
       "ENSG00000000457  762       820       651       433       394     "
      ]
     },
     "metadata": {},
     "output_type": "display_data"
    }
   ],
   "source": [
    "count_data[1:4,1:5]"
   ]
  },
  {
   "cell_type": "code",
   "execution_count": 9,
   "metadata": {},
   "outputs": [],
   "source": [
    "pheno_data = fread('data//raw_data//LAIV1//rnaseq/LAIV1_rnaseq_meta.tsv', data.table = F)\n",
    "pheno_data = pheno_data %>% column_to_rownames('sample_id') %>% \n",
    "rename(sample_id_original = 'sample_id')  %>% select(sample_id, volunteer_id, timepoint)"
   ]
  },
  {
   "cell_type": "code",
   "execution_count": 10,
   "metadata": {},
   "outputs": [
    {
     "data": {
      "text/html": [
       "<table class=\"dataframe\">\n",
       "<caption>A data.frame: 6 × 3</caption>\n",
       "<thead>\n",
       "\t<tr><th></th><th scope=col>sample_id</th><th scope=col>volunteer_id</th><th scope=col>timepoint</th></tr>\n",
       "\t<tr><th></th><th scope=col>&lt;chr&gt;</th><th scope=col>&lt;chr&gt;</th><th scope=col>&lt;chr&gt;</th></tr>\n",
       "</thead>\n",
       "<tbody>\n",
       "\t<tr><th scope=row>0231/016/006_D2</th><td>S00163703</td><td>0231/016/006</td><td>D2      </td></tr>\n",
       "\t<tr><th scope=row>0231/016/006_baseline</th><td>S00162909</td><td>0231/016/006</td><td>baseline</td></tr>\n",
       "\t<tr><th scope=row>0231/016/006_D9</th><td>S00165160</td><td>0231/016/006</td><td>D9      </td></tr>\n",
       "\t<tr><th scope=row>1025/016/009_D9</th><td>S00156618</td><td>1025/016/009</td><td>D9      </td></tr>\n",
       "\t<tr><th scope=row>1025/016/009_D2</th><td>S00155297</td><td>1025/016/009</td><td>D2      </td></tr>\n",
       "\t<tr><th scope=row>1025/016/009_baseline</th><td>S00154295</td><td>1025/016/009</td><td>baseline</td></tr>\n",
       "</tbody>\n",
       "</table>\n"
      ],
      "text/latex": [
       "A data.frame: 6 × 3\n",
       "\\begin{tabular}{r|lll}\n",
       "  & sample\\_id & volunteer\\_id & timepoint\\\\\n",
       "  & <chr> & <chr> & <chr>\\\\\n",
       "\\hline\n",
       "\t0231/016/006\\_D2 & S00163703 & 0231/016/006 & D2      \\\\\n",
       "\t0231/016/006\\_baseline & S00162909 & 0231/016/006 & baseline\\\\\n",
       "\t0231/016/006\\_D9 & S00165160 & 0231/016/006 & D9      \\\\\n",
       "\t1025/016/009\\_D9 & S00156618 & 1025/016/009 & D9      \\\\\n",
       "\t1025/016/009\\_D2 & S00155297 & 1025/016/009 & D2      \\\\\n",
       "\t1025/016/009\\_baseline & S00154295 & 1025/016/009 & baseline\\\\\n",
       "\\end{tabular}\n"
      ],
      "text/markdown": [
       "\n",
       "A data.frame: 6 × 3\n",
       "\n",
       "| <!--/--> | sample_id &lt;chr&gt; | volunteer_id &lt;chr&gt; | timepoint &lt;chr&gt; |\n",
       "|---|---|---|---|\n",
       "| 0231/016/006_D2 | S00163703 | 0231/016/006 | D2       |\n",
       "| 0231/016/006_baseline | S00162909 | 0231/016/006 | baseline |\n",
       "| 0231/016/006_D9 | S00165160 | 0231/016/006 | D9       |\n",
       "| 1025/016/009_D9 | S00156618 | 1025/016/009 | D9       |\n",
       "| 1025/016/009_D2 | S00155297 | 1025/016/009 | D2       |\n",
       "| 1025/016/009_baseline | S00154295 | 1025/016/009 | baseline |\n",
       "\n"
      ],
      "text/plain": [
       "                      sample_id volunteer_id timepoint\n",
       "0231/016/006_D2       S00163703 0231/016/006 D2       \n",
       "0231/016/006_baseline S00162909 0231/016/006 baseline \n",
       "0231/016/006_D9       S00165160 0231/016/006 D9       \n",
       "1025/016/009_D9       S00156618 1025/016/009 D9       \n",
       "1025/016/009_D2       S00155297 1025/016/009 D2       \n",
       "1025/016/009_baseline S00154295 1025/016/009 baseline "
      ]
     },
     "metadata": {},
     "output_type": "display_data"
    }
   ],
   "source": [
    "head(pheno_data)"
   ]
  },
  {
   "cell_type": "code",
   "execution_count": 11,
   "metadata": {},
   "outputs": [],
   "source": [
    "colnames(count_data) <- rownames(pheno_data)"
   ]
  },
  {
   "cell_type": "code",
   "execution_count": 13,
   "metadata": {},
   "outputs": [
    {
     "data": {
      "text/plain": [
       "class: SummarizedExperiment \n",
       "dim: 60554 96 \n",
       "metadata(0):\n",
       "assays(1): ''\n",
       "rownames(60554): ENSG00000000003 ENSG00000000005 ... ENSGR0000280767\n",
       "  ENSGR0000281849\n",
       "rowData names(0):\n",
       "colnames(96): 0231/016/006_D2 0231/016/006_baseline ... 1204/016/191_D2\n",
       "  1204/016/191_D9\n",
       "colData names(3): sample_id volunteer_id timepoint"
      ]
     },
     "metadata": {},
     "output_type": "display_data"
    }
   ],
   "source": [
    "rnaseq_exp = SummarizedExperiment(assays = count_data, colData = pheno_data)\n",
    "rnaseq_exp"
   ]
  },
  {
   "cell_type": "code",
   "execution_count": 14,
   "metadata": {},
   "outputs": [],
   "source": [
    "saveRDS(rnaseq_exp,'data//tidy_data//LAIV1_rnaseq.rds')"
   ]
  },
  {
   "cell_type": "markdown",
   "metadata": {},
   "source": [
    "## LAIV2"
   ]
  },
  {
   "cell_type": "code",
   "execution_count": 16,
   "metadata": {},
   "outputs": [
    {
     "data": {
      "text/html": [
       "<table class=\"dataframe\">\n",
       "<caption>A data.frame: 4 × 5</caption>\n",
       "<thead>\n",
       "\t<tr><th></th><th scope=col>S00196302A</th><th scope=col>S00196303A</th><th scope=col>S00196304A</th><th scope=col>S00196305A</th><th scope=col>S00196306A</th></tr>\n",
       "\t<tr><th></th><th scope=col>&lt;int&gt;</th><th scope=col>&lt;int&gt;</th><th scope=col>&lt;int&gt;</th><th scope=col>&lt;int&gt;</th><th scope=col>&lt;int&gt;</th></tr>\n",
       "</thead>\n",
       "<tbody>\n",
       "\t<tr><th scope=row>ENSG00000000003</th><td>22181</td><td>16970</td><td>13263</td><td>9013</td><td>8202</td></tr>\n",
       "\t<tr><th scope=row>ENSG00000000005</th><td>    4</td><td>    1</td><td>    0</td><td>   0</td><td>   0</td></tr>\n",
       "\t<tr><th scope=row>ENSG00000000419</th><td> 2546</td><td> 2716</td><td>  883</td><td>1538</td><td>2654</td></tr>\n",
       "\t<tr><th scope=row>ENSG00000000457</th><td> 1360</td><td> 1357</td><td> 1001</td><td> 902</td><td>1048</td></tr>\n",
       "</tbody>\n",
       "</table>\n"
      ],
      "text/latex": [
       "A data.frame: 4 × 5\n",
       "\\begin{tabular}{r|lllll}\n",
       "  & S00196302A & S00196303A & S00196304A & S00196305A & S00196306A\\\\\n",
       "  & <int> & <int> & <int> & <int> & <int>\\\\\n",
       "\\hline\n",
       "\tENSG00000000003 & 22181 & 16970 & 13263 & 9013 & 8202\\\\\n",
       "\tENSG00000000005 &     4 &     1 &     0 &    0 &    0\\\\\n",
       "\tENSG00000000419 &  2546 &  2716 &   883 & 1538 & 2654\\\\\n",
       "\tENSG00000000457 &  1360 &  1357 &  1001 &  902 & 1048\\\\\n",
       "\\end{tabular}\n"
      ],
      "text/markdown": [
       "\n",
       "A data.frame: 4 × 5\n",
       "\n",
       "| <!--/--> | S00196302A &lt;int&gt; | S00196303A &lt;int&gt; | S00196304A &lt;int&gt; | S00196305A &lt;int&gt; | S00196306A &lt;int&gt; |\n",
       "|---|---|---|---|---|---|\n",
       "| ENSG00000000003 | 22181 | 16970 | 13263 | 9013 | 8202 |\n",
       "| ENSG00000000005 |     4 |     1 |     0 |    0 |    0 |\n",
       "| ENSG00000000419 |  2546 |  2716 |   883 | 1538 | 2654 |\n",
       "| ENSG00000000457 |  1360 |  1357 |  1001 |  902 | 1048 |\n",
       "\n"
      ],
      "text/plain": [
       "                S00196302A S00196303A S00196304A S00196305A S00196306A\n",
       "ENSG00000000003 22181      16970      13263      9013       8202      \n",
       "ENSG00000000005     4          1          0         0          0      \n",
       "ENSG00000000419  2546       2716        883      1538       2654      \n",
       "ENSG00000000457  1360       1357       1001       902       1048      "
      ]
     },
     "metadata": {},
     "output_type": "display_data"
    }
   ],
   "source": [
    "count_data <- fread('data/raw_data/LAIV2/LAIV2_rnaseq_data.tsv') %>% data.frame(row.names = 1)\n",
    "count_data[1:4,1:5]"
   ]
  },
  {
   "cell_type": "code",
   "execution_count": 17,
   "metadata": {},
   "outputs": [
    {
     "data": {
      "text/html": [
       "<table class=\"dataframe\">\n",
       "<caption>A data.frame: 6 × 3</caption>\n",
       "<thead>\n",
       "\t<tr><th></th><th scope=col>sample_id</th><th scope=col>volunteer_id</th><th scope=col>timepoint</th></tr>\n",
       "\t<tr><th></th><th scope=col>&lt;chr&gt;</th><th scope=col>&lt;chr&gt;</th><th scope=col>&lt;chr&gt;</th></tr>\n",
       "</thead>\n",
       "<tbody>\n",
       "\t<tr><th scope=row>1409/019/047_D6</th><td>S00198890A</td><td>1409/019/047</td><td>D6      </td></tr>\n",
       "\t<tr><th scope=row>1409/019/047_baseline</th><td>S00196312A</td><td>1409/019/047</td><td>baseline</td></tr>\n",
       "\t<tr><th scope=row>1409/019/047_D9</th><td>S00217244A</td><td>1409/019/047</td><td>D9      </td></tr>\n",
       "\t<tr><th scope=row>1434/019/072_baseline</th><td>S00196311A</td><td>1434/019/072</td><td>baseline</td></tr>\n",
       "\t<tr><th scope=row>1434/019/072_D9</th><td>S00199344A</td><td>1434/019/072</td><td>D9      </td></tr>\n",
       "\t<tr><th scope=row>1434/019/072_D6</th><td>S00198891A</td><td>1434/019/072</td><td>D6      </td></tr>\n",
       "</tbody>\n",
       "</table>\n"
      ],
      "text/latex": [
       "A data.frame: 6 × 3\n",
       "\\begin{tabular}{r|lll}\n",
       "  & sample\\_id & volunteer\\_id & timepoint\\\\\n",
       "  & <chr> & <chr> & <chr>\\\\\n",
       "\\hline\n",
       "\t1409/019/047\\_D6 & S00198890A & 1409/019/047 & D6      \\\\\n",
       "\t1409/019/047\\_baseline & S00196312A & 1409/019/047 & baseline\\\\\n",
       "\t1409/019/047\\_D9 & S00217244A & 1409/019/047 & D9      \\\\\n",
       "\t1434/019/072\\_baseline & S00196311A & 1434/019/072 & baseline\\\\\n",
       "\t1434/019/072\\_D9 & S00199344A & 1434/019/072 & D9      \\\\\n",
       "\t1434/019/072\\_D6 & S00198891A & 1434/019/072 & D6      \\\\\n",
       "\\end{tabular}\n"
      ],
      "text/markdown": [
       "\n",
       "A data.frame: 6 × 3\n",
       "\n",
       "| <!--/--> | sample_id &lt;chr&gt; | volunteer_id &lt;chr&gt; | timepoint &lt;chr&gt; |\n",
       "|---|---|---|---|\n",
       "| 1409/019/047_D6 | S00198890A | 1409/019/047 | D6       |\n",
       "| 1409/019/047_baseline | S00196312A | 1409/019/047 | baseline |\n",
       "| 1409/019/047_D9 | S00217244A | 1409/019/047 | D9       |\n",
       "| 1434/019/072_baseline | S00196311A | 1434/019/072 | baseline |\n",
       "| 1434/019/072_D9 | S00199344A | 1434/019/072 | D9       |\n",
       "| 1434/019/072_D6 | S00198891A | 1434/019/072 | D6       |\n",
       "\n"
      ],
      "text/plain": [
       "                      sample_id  volunteer_id timepoint\n",
       "1409/019/047_D6       S00198890A 1409/019/047 D6       \n",
       "1409/019/047_baseline S00196312A 1409/019/047 baseline \n",
       "1409/019/047_D9       S00217244A 1409/019/047 D9       \n",
       "1434/019/072_baseline S00196311A 1434/019/072 baseline \n",
       "1434/019/072_D9       S00199344A 1434/019/072 D9       \n",
       "1434/019/072_D6       S00198891A 1434/019/072 D6       "
      ]
     },
     "metadata": {},
     "output_type": "display_data"
    }
   ],
   "source": [
    "pheno_data <- fread('data//raw_data//LAIV2//LAIV2_rnaseq_meta.txt')\n",
    "pheno_data = pheno_data %>%\n",
    "    column_to_rownames('sample_id') %>% \n",
    "    rename(sample_id_original = \"sample_id\") %>% \n",
    "    select(sample_id, volunteer_id, timepoint)\n",
    "head(pheno_data)"
   ]
  },
  {
   "cell_type": "code",
   "execution_count": 18,
   "metadata": {},
   "outputs": [
    {
     "data": {
      "text/plain": [
       "class: SummarizedExperiment \n",
       "dim: 60554 151 \n",
       "metadata(0):\n",
       "assays(1): ''\n",
       "rownames(60554): ENSG00000000003 ENSG00000000005 ... ENSGR0000280767\n",
       "  ENSGR0000281849\n",
       "rowData names(0):\n",
       "colnames(151): 1409/019/047_D6 1409/019/047_baseline ...\n",
       "  1589/019/227_D6 1589/019/227_baseline\n",
       "colData names(3): sample_id volunteer_id timepoint"
      ]
     },
     "metadata": {},
     "output_type": "display_data"
    }
   ],
   "source": [
    "rnaseq_exp = SummarizedExperiment(assays = count_data, colData = pheno_data)\n",
    "rnaseq_exp"
   ]
  },
  {
   "cell_type": "code",
   "execution_count": 19,
   "metadata": {},
   "outputs": [],
   "source": [
    "saveRDS(rnaseq_exp, 'data//tidy_data//LAIV2_rnaseq.rds')"
   ]
  },
  {
   "cell_type": "markdown",
   "metadata": {},
   "source": [
    "## AGES"
   ]
  },
  {
   "cell_type": "code",
   "execution_count": 20,
   "metadata": {},
   "outputs": [],
   "source": [
    "data <- readRDS('data/raw_data/AGES/Robj/AGES_studyObj.rds')"
   ]
  },
  {
   "cell_type": "code",
   "execution_count": 21,
   "metadata": {},
   "outputs": [
    {
     "data": {
      "text/plain": [
       "class: SummarizedExperiment \n",
       "dim: 40493 133 \n",
       "metadata(0):\n",
       "assays(1): ''\n",
       "rownames(40493): ENSG00000223972 ENSG00000227232 ... ENSG00000210195\n",
       "  ENSG00000210196\n",
       "rowData names(6): Geneid Chr ... Strand Length\n",
       "colnames(133): S1234_018_020_baseline S1290_018_076_D2 ...\n",
       "  S1254_018_040_baseline S1228_018_014_D9\n",
       "colData names(10): sample_id batch ... age has_baseline"
      ]
     },
     "metadata": {},
     "output_type": "display_data"
    }
   ],
   "source": [
    "rnaseq_exp = data[[\"RNA-Seq\"]]\n",
    "rnaseq_exp"
   ]
  },
  {
   "cell_type": "code",
   "execution_count": 22,
   "metadata": {},
   "outputs": [
    {
     "data": {
      "text/html": [
       "<table class=\"dataframe\">\n",
       "<caption>A matrix: 4 × 5 of type int</caption>\n",
       "<thead>\n",
       "\t<tr><th></th><th scope=col>S1234_018_020_baseline</th><th scope=col>S1290_018_076_D2</th><th scope=col>S1264_018_050_D9</th><th scope=col>S1232_018_018_D9</th><th scope=col>S1254_018_040_D2</th></tr>\n",
       "</thead>\n",
       "<tbody>\n",
       "\t<tr><th scope=row>ENSG00000223972</th><td> 0</td><td>0</td><td>0</td><td>0</td><td>0</td></tr>\n",
       "\t<tr><th scope=row>ENSG00000227232</th><td>15</td><td>6</td><td>4</td><td>8</td><td>9</td></tr>\n",
       "\t<tr><th scope=row>ENSG00000278267</th><td> 1</td><td>0</td><td>0</td><td>0</td><td>1</td></tr>\n",
       "\t<tr><th scope=row>ENSG00000243485</th><td> 0</td><td>2</td><td>0</td><td>0</td><td>0</td></tr>\n",
       "</tbody>\n",
       "</table>\n"
      ],
      "text/latex": [
       "A matrix: 4 × 5 of type int\n",
       "\\begin{tabular}{r|lllll}\n",
       "  & S1234\\_018\\_020\\_baseline & S1290\\_018\\_076\\_D2 & S1264\\_018\\_050\\_D9 & S1232\\_018\\_018\\_D9 & S1254\\_018\\_040\\_D2\\\\\n",
       "\\hline\n",
       "\tENSG00000223972 &  0 & 0 & 0 & 0 & 0\\\\\n",
       "\tENSG00000227232 & 15 & 6 & 4 & 8 & 9\\\\\n",
       "\tENSG00000278267 &  1 & 0 & 0 & 0 & 1\\\\\n",
       "\tENSG00000243485 &  0 & 2 & 0 & 0 & 0\\\\\n",
       "\\end{tabular}\n"
      ],
      "text/markdown": [
       "\n",
       "A matrix: 4 × 5 of type int\n",
       "\n",
       "| <!--/--> | S1234_018_020_baseline | S1290_018_076_D2 | S1264_018_050_D9 | S1232_018_018_D9 | S1254_018_040_D2 |\n",
       "|---|---|---|---|---|---|\n",
       "| ENSG00000223972 |  0 | 0 | 0 | 0 | 0 |\n",
       "| ENSG00000227232 | 15 | 6 | 4 | 8 | 9 |\n",
       "| ENSG00000278267 |  1 | 0 | 0 | 0 | 1 |\n",
       "| ENSG00000243485 |  0 | 2 | 0 | 0 | 0 |\n",
       "\n"
      ],
      "text/plain": [
       "                S1234_018_020_baseline S1290_018_076_D2 S1264_018_050_D9\n",
       "ENSG00000223972  0                     0                0               \n",
       "ENSG00000227232 15                     6                4               \n",
       "ENSG00000278267  1                     0                0               \n",
       "ENSG00000243485  0                     2                0               \n",
       "                S1232_018_018_D9 S1254_018_040_D2\n",
       "ENSG00000223972 0                0               \n",
       "ENSG00000227232 8                9               \n",
       "ENSG00000278267 0                1               \n",
       "ENSG00000243485 0                0               "
      ]
     },
     "metadata": {},
     "output_type": "display_data"
    }
   ],
   "source": [
    "count_data = assay(rnaseq_exp)\n",
    "count_data[1:4,1:5]"
   ]
  },
  {
   "cell_type": "code",
   "execution_count": 23,
   "metadata": {},
   "outputs": [
    {
     "data": {
      "text/html": [
       "<table class=\"dataframe\">\n",
       "<caption>A data.frame: 6 × 3</caption>\n",
       "<thead>\n",
       "\t<tr><th></th><th scope=col>sample_id</th><th scope=col>volunteer_id</th><th scope=col>timepoint</th></tr>\n",
       "\t<tr><th></th><th scope=col>&lt;chr&gt;</th><th scope=col>&lt;chr&gt;</th><th scope=col>&lt;chr&gt;</th></tr>\n",
       "</thead>\n",
       "<tbody>\n",
       "\t<tr><th scope=row>1234/018/020_baseline</th><td>S00281191B</td><td>1234/018/020</td><td>baseline</td></tr>\n",
       "\t<tr><th scope=row>1290/018/076_D2</th><td>S00223716B</td><td>1290/018/076</td><td>D2      </td></tr>\n",
       "\t<tr><th scope=row>1264/018/050_D9</th><td>S00281231B</td><td>1264/018/050</td><td>D9      </td></tr>\n",
       "\t<tr><th scope=row>1232/018/018_D9</th><td>S00281218B</td><td>1232/018/018</td><td>D9      </td></tr>\n",
       "\t<tr><th scope=row>1254/018/040_D2</th><td>S00281212B</td><td>1254/018/040</td><td>D2      </td></tr>\n",
       "\t<tr><th scope=row>1290/018/076_D9</th><td>S00224138B</td><td>1290/018/076</td><td>D9      </td></tr>\n",
       "</tbody>\n",
       "</table>\n"
      ],
      "text/latex": [
       "A data.frame: 6 × 3\n",
       "\\begin{tabular}{r|lll}\n",
       "  & sample\\_id & volunteer\\_id & timepoint\\\\\n",
       "  & <chr> & <chr> & <chr>\\\\\n",
       "\\hline\n",
       "\t1234/018/020\\_baseline & S00281191B & 1234/018/020 & baseline\\\\\n",
       "\t1290/018/076\\_D2 & S00223716B & 1290/018/076 & D2      \\\\\n",
       "\t1264/018/050\\_D9 & S00281231B & 1264/018/050 & D9      \\\\\n",
       "\t1232/018/018\\_D9 & S00281218B & 1232/018/018 & D9      \\\\\n",
       "\t1254/018/040\\_D2 & S00281212B & 1254/018/040 & D2      \\\\\n",
       "\t1290/018/076\\_D9 & S00224138B & 1290/018/076 & D9      \\\\\n",
       "\\end{tabular}\n"
      ],
      "text/markdown": [
       "\n",
       "A data.frame: 6 × 3\n",
       "\n",
       "| <!--/--> | sample_id &lt;chr&gt; | volunteer_id &lt;chr&gt; | timepoint &lt;chr&gt; |\n",
       "|---|---|---|---|\n",
       "| 1234/018/020_baseline | S00281191B | 1234/018/020 | baseline |\n",
       "| 1290/018/076_D2 | S00223716B | 1290/018/076 | D2       |\n",
       "| 1264/018/050_D9 | S00281231B | 1264/018/050 | D9       |\n",
       "| 1232/018/018_D9 | S00281218B | 1232/018/018 | D9       |\n",
       "| 1254/018/040_D2 | S00281212B | 1254/018/040 | D2       |\n",
       "| 1290/018/076_D9 | S00224138B | 1290/018/076 | D9       |\n",
       "\n"
      ],
      "text/plain": [
       "                      sample_id  volunteer_id timepoint\n",
       "1234/018/020_baseline S00281191B 1234/018/020 baseline \n",
       "1290/018/076_D2       S00223716B 1290/018/076 D2       \n",
       "1264/018/050_D9       S00281231B 1264/018/050 D9       \n",
       "1232/018/018_D9       S00281218B 1232/018/018 D9       \n",
       "1254/018/040_D2       S00281212B 1254/018/040 D2       \n",
       "1290/018/076_D9       S00224138B 1290/018/076 D9       "
      ]
     },
     "metadata": {},
     "output_type": "display_data"
    }
   ],
   "source": [
    "pheno_data = as.data.frame(colData(rnaseq_exp)) %>% \n",
    "    mutate(volunteer_id = gsub('_','\\\\/',volunteer_id)) %>%\n",
    "    select(sample_id, volunteer_id, timepoint)\n",
    "colnames(count_data) <- rownames(pheno_data) <- with(pheno_data, paste0(volunteer_id,'_',timepoint))\n",
    "head(pheno_data)"
   ]
  },
  {
   "cell_type": "code",
   "execution_count": 24,
   "metadata": {},
   "outputs": [
    {
     "data": {
      "text/plain": [
       "class: SummarizedExperiment \n",
       "dim: 40493 133 \n",
       "metadata(0):\n",
       "assays(1): ''\n",
       "rownames(40493): ENSG00000223972 ENSG00000227232 ... ENSG00000210195\n",
       "  ENSG00000210196\n",
       "rowData names(0):\n",
       "colnames(133): 1234/018/020_baseline 1290/018/076_D2 ...\n",
       "  1254/018/040_baseline 1228/018/014_D9\n",
       "colData names(3): sample_id volunteer_id timepoint"
      ]
     },
     "metadata": {},
     "output_type": "display_data"
    }
   ],
   "source": [
    "rnaseq_exp = SummarizedExperiment(assays = count_data, colData = pheno_data)\n",
    "rnaseq_exp"
   ]
  },
  {
   "cell_type": "code",
   "execution_count": 25,
   "metadata": {},
   "outputs": [],
   "source": [
    "saveRDS(rnaseq_exp, 'data//tidy_data//AGES_rnaseq.rds')"
   ]
  },
  {
   "cell_type": "markdown",
   "metadata": {},
   "source": [
    "# Combine RNA-Seq data from studies\n",
    "Merge each rnaseq data (SummarizedExperiment) into a single SummarizedExperiment\n",
    "\n",
    "From *data/tidy_data/*:\n",
    "- MUCOSAL: MUCOSAL_rnaseq.rds  \n",
    "- LAIV1: LAIV1_rnaseq.rds    \n",
    "- LAIV2: LAIV2_rnaseq.rds  \n",
    "- AGES: AGES_rnaseq.rds\n",
    "\n",
    "To *data/tidy_data/__rnaseq.rds__*"
   ]
  },
  {
   "cell_type": "code",
   "execution_count": 33,
   "metadata": {},
   "outputs": [
    {
     "data": {
      "text/html": [
       "'pkgs'"
      ],
      "text/latex": [
       "'pkgs'"
      ],
      "text/markdown": [
       "'pkgs'"
      ],
      "text/plain": [
       "[1] \"pkgs\""
      ]
     },
     "metadata": {},
     "output_type": "display_data"
    },
    {
     "name": "stderr",
     "output_type": "stream",
     "text": [
      "Warning message in rm(\"count_data\", \"data\", \"pheno_data\", \"rnaseq_exp\"):\n",
      "“object 'count_data' not found”\n",
      "Warning message in rm(\"count_data\", \"data\", \"pheno_data\", \"rnaseq_exp\"):\n",
      "“object 'data' not found”\n",
      "Warning message in rm(\"count_data\", \"data\", \"pheno_data\", \"rnaseq_exp\"):\n",
      "“object 'pheno_data' not found”\n",
      "Warning message in rm(\"count_data\", \"data\", \"pheno_data\", \"rnaseq_exp\"):\n",
      "“object 'rnaseq_exp' not found”\n"
     ]
    },
    {
     "data": {
      "text/html": [
       "'pkgs'"
      ],
      "text/latex": [
       "'pkgs'"
      ],
      "text/markdown": [
       "'pkgs'"
      ],
      "text/plain": [
       "[1] \"pkgs\""
      ]
     },
     "metadata": {},
     "output_type": "display_data"
    }
   ],
   "source": [
    "ls()\n",
    "rm('count_data','data','pheno_data','rnaseq_exp')\n",
    "ls()"
   ]
  },
  {
   "cell_type": "code",
   "execution_count": 34,
   "metadata": {},
   "outputs": [],
   "source": [
    "MUCOSAL = readRDS('data//tidy_data//MUCOSAL_rnaseq.rds')"
   ]
  },
  {
   "cell_type": "code",
   "execution_count": 35,
   "metadata": {},
   "outputs": [],
   "source": [
    "LAIV1 = readRDS('data//tidy_data//LAIV1_rnaseq.rds')"
   ]
  },
  {
   "cell_type": "code",
   "execution_count": 36,
   "metadata": {},
   "outputs": [],
   "source": [
    "LAIV2 = readRDS('data//tidy_data//LAIV2_rnaseq.rds')"
   ]
  },
  {
   "cell_type": "code",
   "execution_count": 37,
   "metadata": {},
   "outputs": [],
   "source": [
    "AGES = readRDS('data//tidy_data//AGES_rnaseq.rds')"
   ]
  },
  {
   "cell_type": "markdown",
   "metadata": {},
   "source": [
    "### Create MultiAssayExperiment"
   ]
  },
  {
   "cell_type": "code",
   "execution_count": 38,
   "metadata": {},
   "outputs": [
    {
     "data": {
      "text/html": [
       "<table class=\"dataframe\">\n",
       "<caption>A data.frame: 6 × 3</caption>\n",
       "<thead>\n",
       "\t<tr><th></th><th scope=col>sample_id</th><th scope=col>volunteer_id</th><th scope=col>timepoint</th></tr>\n",
       "\t<tr><th></th><th scope=col>&lt;chr&gt;</th><th scope=col>&lt;chr&gt;</th><th scope=col>&lt;chr&gt;</th></tr>\n",
       "</thead>\n",
       "<tbody>\n",
       "\t<tr><th scope=row>0100/015/007_baseline</th><td>S00149245</td><td>0100/015/007</td><td>baseline</td></tr>\n",
       "\t<tr><th scope=row>0100/015/007_D2</th><td>S00149858</td><td>0100/015/007</td><td>D2      </td></tr>\n",
       "\t<tr><th scope=row>0285/015/009_baseline</th><td>S00149406</td><td>0285/015/009</td><td>baseline</td></tr>\n",
       "\t<tr><th scope=row>0285/015/009_D2</th><td>S00150037</td><td>0285/015/009</td><td>D2      </td></tr>\n",
       "\t<tr><th scope=row>1000/015/002_D2</th><td>S00149384</td><td>1000/015/002</td><td>D2      </td></tr>\n",
       "\t<tr><th scope=row>1000/015/002_baseline</th><td>S00149461</td><td>1000/015/002</td><td>baseline</td></tr>\n",
       "</tbody>\n",
       "</table>\n"
      ],
      "text/latex": [
       "A data.frame: 6 × 3\n",
       "\\begin{tabular}{r|lll}\n",
       "  & sample\\_id & volunteer\\_id & timepoint\\\\\n",
       "  & <chr> & <chr> & <chr>\\\\\n",
       "\\hline\n",
       "\t0100/015/007\\_baseline & S00149245 & 0100/015/007 & baseline\\\\\n",
       "\t0100/015/007\\_D2 & S00149858 & 0100/015/007 & D2      \\\\\n",
       "\t0285/015/009\\_baseline & S00149406 & 0285/015/009 & baseline\\\\\n",
       "\t0285/015/009\\_D2 & S00150037 & 0285/015/009 & D2      \\\\\n",
       "\t1000/015/002\\_D2 & S00149384 & 1000/015/002 & D2      \\\\\n",
       "\t1000/015/002\\_baseline & S00149461 & 1000/015/002 & baseline\\\\\n",
       "\\end{tabular}\n"
      ],
      "text/markdown": [
       "\n",
       "A data.frame: 6 × 3\n",
       "\n",
       "| <!--/--> | sample_id &lt;chr&gt; | volunteer_id &lt;chr&gt; | timepoint &lt;chr&gt; |\n",
       "|---|---|---|---|\n",
       "| 0100/015/007_baseline | S00149245 | 0100/015/007 | baseline |\n",
       "| 0100/015/007_D2 | S00149858 | 0100/015/007 | D2       |\n",
       "| 0285/015/009_baseline | S00149406 | 0285/015/009 | baseline |\n",
       "| 0285/015/009_D2 | S00150037 | 0285/015/009 | D2       |\n",
       "| 1000/015/002_D2 | S00149384 | 1000/015/002 | D2       |\n",
       "| 1000/015/002_baseline | S00149461 | 1000/015/002 | baseline |\n",
       "\n"
      ],
      "text/plain": [
       "                      sample_id volunteer_id timepoint\n",
       "0100/015/007_baseline S00149245 0100/015/007 baseline \n",
       "0100/015/007_D2       S00149858 0100/015/007 D2       \n",
       "0285/015/009_baseline S00149406 0285/015/009 baseline \n",
       "0285/015/009_D2       S00150037 0285/015/009 D2       \n",
       "1000/015/002_D2       S00149384 1000/015/002 D2       \n",
       "1000/015/002_baseline S00149461 1000/015/002 baseline "
      ]
     },
     "metadata": {},
     "output_type": "display_data"
    }
   ],
   "source": [
    "head(as.data.frame(colData(MUCOSAL)))"
   ]
  },
  {
   "cell_type": "code",
   "execution_count": 39,
   "metadata": {},
   "outputs": [
    {
     "data": {
      "text/html": [
       "<table class=\"dataframe\">\n",
       "<caption>A data.frame: 6 × 3</caption>\n",
       "<thead>\n",
       "\t<tr><th></th><th scope=col>sample_id</th><th scope=col>volunteer_id</th><th scope=col>timepoint</th></tr>\n",
       "\t<tr><th></th><th scope=col>&lt;chr&gt;</th><th scope=col>&lt;chr&gt;</th><th scope=col>&lt;chr&gt;</th></tr>\n",
       "</thead>\n",
       "<tbody>\n",
       "\t<tr><th scope=row>0231/016/006_D2</th><td>S00163703</td><td>0231/016/006</td><td>D2      </td></tr>\n",
       "\t<tr><th scope=row>0231/016/006_baseline</th><td>S00162909</td><td>0231/016/006</td><td>baseline</td></tr>\n",
       "\t<tr><th scope=row>0231/016/006_D9</th><td>S00165160</td><td>0231/016/006</td><td>D9      </td></tr>\n",
       "\t<tr><th scope=row>1025/016/009_D9</th><td>S00156618</td><td>1025/016/009</td><td>D9      </td></tr>\n",
       "\t<tr><th scope=row>1025/016/009_D2</th><td>S00155297</td><td>1025/016/009</td><td>D2      </td></tr>\n",
       "\t<tr><th scope=row>1025/016/009_baseline</th><td>S00154295</td><td>1025/016/009</td><td>baseline</td></tr>\n",
       "</tbody>\n",
       "</table>\n"
      ],
      "text/latex": [
       "A data.frame: 6 × 3\n",
       "\\begin{tabular}{r|lll}\n",
       "  & sample\\_id & volunteer\\_id & timepoint\\\\\n",
       "  & <chr> & <chr> & <chr>\\\\\n",
       "\\hline\n",
       "\t0231/016/006\\_D2 & S00163703 & 0231/016/006 & D2      \\\\\n",
       "\t0231/016/006\\_baseline & S00162909 & 0231/016/006 & baseline\\\\\n",
       "\t0231/016/006\\_D9 & S00165160 & 0231/016/006 & D9      \\\\\n",
       "\t1025/016/009\\_D9 & S00156618 & 1025/016/009 & D9      \\\\\n",
       "\t1025/016/009\\_D2 & S00155297 & 1025/016/009 & D2      \\\\\n",
       "\t1025/016/009\\_baseline & S00154295 & 1025/016/009 & baseline\\\\\n",
       "\\end{tabular}\n"
      ],
      "text/markdown": [
       "\n",
       "A data.frame: 6 × 3\n",
       "\n",
       "| <!--/--> | sample_id &lt;chr&gt; | volunteer_id &lt;chr&gt; | timepoint &lt;chr&gt; |\n",
       "|---|---|---|---|\n",
       "| 0231/016/006_D2 | S00163703 | 0231/016/006 | D2       |\n",
       "| 0231/016/006_baseline | S00162909 | 0231/016/006 | baseline |\n",
       "| 0231/016/006_D9 | S00165160 | 0231/016/006 | D9       |\n",
       "| 1025/016/009_D9 | S00156618 | 1025/016/009 | D9       |\n",
       "| 1025/016/009_D2 | S00155297 | 1025/016/009 | D2       |\n",
       "| 1025/016/009_baseline | S00154295 | 1025/016/009 | baseline |\n",
       "\n"
      ],
      "text/plain": [
       "                      sample_id volunteer_id timepoint\n",
       "0231/016/006_D2       S00163703 0231/016/006 D2       \n",
       "0231/016/006_baseline S00162909 0231/016/006 baseline \n",
       "0231/016/006_D9       S00165160 0231/016/006 D9       \n",
       "1025/016/009_D9       S00156618 1025/016/009 D9       \n",
       "1025/016/009_D2       S00155297 1025/016/009 D2       \n",
       "1025/016/009_baseline S00154295 1025/016/009 baseline "
      ]
     },
     "metadata": {},
     "output_type": "display_data"
    }
   ],
   "source": [
    "head(as.data.frame(colData(LAIV1)))"
   ]
  },
  {
   "cell_type": "code",
   "execution_count": 40,
   "metadata": {},
   "outputs": [
    {
     "data": {
      "text/html": [
       "<table class=\"dataframe\">\n",
       "<caption>A data.frame: 6 × 3</caption>\n",
       "<thead>\n",
       "\t<tr><th></th><th scope=col>sample_id</th><th scope=col>volunteer_id</th><th scope=col>timepoint</th></tr>\n",
       "\t<tr><th></th><th scope=col>&lt;chr&gt;</th><th scope=col>&lt;chr&gt;</th><th scope=col>&lt;chr&gt;</th></tr>\n",
       "</thead>\n",
       "<tbody>\n",
       "\t<tr><th scope=row>1409/019/047_D6</th><td>S00198890A</td><td>1409/019/047</td><td>D6      </td></tr>\n",
       "\t<tr><th scope=row>1409/019/047_baseline</th><td>S00196312A</td><td>1409/019/047</td><td>baseline</td></tr>\n",
       "\t<tr><th scope=row>1409/019/047_D9</th><td>S00217244A</td><td>1409/019/047</td><td>D9      </td></tr>\n",
       "\t<tr><th scope=row>1434/019/072_baseline</th><td>S00196311A</td><td>1434/019/072</td><td>baseline</td></tr>\n",
       "\t<tr><th scope=row>1434/019/072_D9</th><td>S00199344A</td><td>1434/019/072</td><td>D9      </td></tr>\n",
       "\t<tr><th scope=row>1434/019/072_D6</th><td>S00198891A</td><td>1434/019/072</td><td>D6      </td></tr>\n",
       "</tbody>\n",
       "</table>\n"
      ],
      "text/latex": [
       "A data.frame: 6 × 3\n",
       "\\begin{tabular}{r|lll}\n",
       "  & sample\\_id & volunteer\\_id & timepoint\\\\\n",
       "  & <chr> & <chr> & <chr>\\\\\n",
       "\\hline\n",
       "\t1409/019/047\\_D6 & S00198890A & 1409/019/047 & D6      \\\\\n",
       "\t1409/019/047\\_baseline & S00196312A & 1409/019/047 & baseline\\\\\n",
       "\t1409/019/047\\_D9 & S00217244A & 1409/019/047 & D9      \\\\\n",
       "\t1434/019/072\\_baseline & S00196311A & 1434/019/072 & baseline\\\\\n",
       "\t1434/019/072\\_D9 & S00199344A & 1434/019/072 & D9      \\\\\n",
       "\t1434/019/072\\_D6 & S00198891A & 1434/019/072 & D6      \\\\\n",
       "\\end{tabular}\n"
      ],
      "text/markdown": [
       "\n",
       "A data.frame: 6 × 3\n",
       "\n",
       "| <!--/--> | sample_id &lt;chr&gt; | volunteer_id &lt;chr&gt; | timepoint &lt;chr&gt; |\n",
       "|---|---|---|---|\n",
       "| 1409/019/047_D6 | S00198890A | 1409/019/047 | D6       |\n",
       "| 1409/019/047_baseline | S00196312A | 1409/019/047 | baseline |\n",
       "| 1409/019/047_D9 | S00217244A | 1409/019/047 | D9       |\n",
       "| 1434/019/072_baseline | S00196311A | 1434/019/072 | baseline |\n",
       "| 1434/019/072_D9 | S00199344A | 1434/019/072 | D9       |\n",
       "| 1434/019/072_D6 | S00198891A | 1434/019/072 | D6       |\n",
       "\n"
      ],
      "text/plain": [
       "                      sample_id  volunteer_id timepoint\n",
       "1409/019/047_D6       S00198890A 1409/019/047 D6       \n",
       "1409/019/047_baseline S00196312A 1409/019/047 baseline \n",
       "1409/019/047_D9       S00217244A 1409/019/047 D9       \n",
       "1434/019/072_baseline S00196311A 1434/019/072 baseline \n",
       "1434/019/072_D9       S00199344A 1434/019/072 D9       \n",
       "1434/019/072_D6       S00198891A 1434/019/072 D6       "
      ]
     },
     "metadata": {},
     "output_type": "display_data"
    }
   ],
   "source": [
    "head(as.data.frame(colData(LAIV2)))"
   ]
  },
  {
   "cell_type": "code",
   "execution_count": 41,
   "metadata": {},
   "outputs": [
    {
     "data": {
      "text/html": [
       "<table class=\"dataframe\">\n",
       "<caption>A data.frame: 6 × 3</caption>\n",
       "<thead>\n",
       "\t<tr><th></th><th scope=col>sample_id</th><th scope=col>volunteer_id</th><th scope=col>timepoint</th></tr>\n",
       "\t<tr><th></th><th scope=col>&lt;chr&gt;</th><th scope=col>&lt;chr&gt;</th><th scope=col>&lt;chr&gt;</th></tr>\n",
       "</thead>\n",
       "<tbody>\n",
       "\t<tr><th scope=row>1234/018/020_baseline</th><td>S00281191B</td><td>1234/018/020</td><td>baseline</td></tr>\n",
       "\t<tr><th scope=row>1290/018/076_D2</th><td>S00223716B</td><td>1290/018/076</td><td>D2      </td></tr>\n",
       "\t<tr><th scope=row>1264/018/050_D9</th><td>S00281231B</td><td>1264/018/050</td><td>D9      </td></tr>\n",
       "\t<tr><th scope=row>1232/018/018_D9</th><td>S00281218B</td><td>1232/018/018</td><td>D9      </td></tr>\n",
       "\t<tr><th scope=row>1254/018/040_D2</th><td>S00281212B</td><td>1254/018/040</td><td>D2      </td></tr>\n",
       "\t<tr><th scope=row>1290/018/076_D9</th><td>S00224138B</td><td>1290/018/076</td><td>D9      </td></tr>\n",
       "</tbody>\n",
       "</table>\n"
      ],
      "text/latex": [
       "A data.frame: 6 × 3\n",
       "\\begin{tabular}{r|lll}\n",
       "  & sample\\_id & volunteer\\_id & timepoint\\\\\n",
       "  & <chr> & <chr> & <chr>\\\\\n",
       "\\hline\n",
       "\t1234/018/020\\_baseline & S00281191B & 1234/018/020 & baseline\\\\\n",
       "\t1290/018/076\\_D2 & S00223716B & 1290/018/076 & D2      \\\\\n",
       "\t1264/018/050\\_D9 & S00281231B & 1264/018/050 & D9      \\\\\n",
       "\t1232/018/018\\_D9 & S00281218B & 1232/018/018 & D9      \\\\\n",
       "\t1254/018/040\\_D2 & S00281212B & 1254/018/040 & D2      \\\\\n",
       "\t1290/018/076\\_D9 & S00224138B & 1290/018/076 & D9      \\\\\n",
       "\\end{tabular}\n"
      ],
      "text/markdown": [
       "\n",
       "A data.frame: 6 × 3\n",
       "\n",
       "| <!--/--> | sample_id &lt;chr&gt; | volunteer_id &lt;chr&gt; | timepoint &lt;chr&gt; |\n",
       "|---|---|---|---|\n",
       "| 1234/018/020_baseline | S00281191B | 1234/018/020 | baseline |\n",
       "| 1290/018/076_D2 | S00223716B | 1290/018/076 | D2       |\n",
       "| 1264/018/050_D9 | S00281231B | 1264/018/050 | D9       |\n",
       "| 1232/018/018_D9 | S00281218B | 1232/018/018 | D9       |\n",
       "| 1254/018/040_D2 | S00281212B | 1254/018/040 | D2       |\n",
       "| 1290/018/076_D9 | S00224138B | 1290/018/076 | D9       |\n",
       "\n"
      ],
      "text/plain": [
       "                      sample_id  volunteer_id timepoint\n",
       "1234/018/020_baseline S00281191B 1234/018/020 baseline \n",
       "1290/018/076_D2       S00223716B 1290/018/076 D2       \n",
       "1264/018/050_D9       S00281231B 1264/018/050 D9       \n",
       "1232/018/018_D9       S00281218B 1232/018/018 D9       \n",
       "1254/018/040_D2       S00281212B 1254/018/040 D2       \n",
       "1290/018/076_D9       S00224138B 1290/018/076 D9       "
      ]
     },
     "metadata": {},
     "output_type": "display_data"
    }
   ],
   "source": [
    "head(as.data.frame(colData(AGES)))"
   ]
  },
  {
   "cell_type": "code",
   "execution_count": 49,
   "metadata": {},
   "outputs": [
    {
     "data": {
      "text/plain": [
       "class: SummarizedExperiment \n",
       "dim: 60554 274 \n",
       "metadata(0):\n",
       "assays(1): ''\n",
       "rownames(60554): ENSG00000000003 ENSG00000000005 ... ENSGR0000280767\n",
       "  ENSGR0000281849\n",
       "rowData names(0):\n",
       "colnames(274): 0100/015/007_baseline 0100/015/007_D2 ...\n",
       "  1589/019/227_D6 1589/019/227_baseline\n",
       "colData names(3): sample_id volunteer_id timepoint"
      ]
     },
     "metadata": {},
     "output_type": "display_data"
    }
   ],
   "source": [
    "rnaseq = cbind(MUCOSAL, LAIV1, LAIV2)\n",
    "rnaseq"
   ]
  },
  {
   "cell_type": "code",
   "execution_count": null,
   "metadata": {},
   "outputs": [],
   "source": [
    "saveRDS()"
   ]
  }
 ],
 "metadata": {
  "kernelspec": {
   "display_name": "R",
   "language": "R",
   "name": "ir"
  },
  "language_info": {
   "codemirror_mode": "r",
   "file_extension": ".r",
   "mimetype": "text/x-r-source",
   "name": "R",
   "pygments_lexer": "r",
   "version": "4.0.4"
  }
 },
 "nbformat": 4,
 "nbformat_minor": 4
}
