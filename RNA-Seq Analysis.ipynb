{
 "cells": [
  {
   "cell_type": "markdown",
   "metadata": {},
   "source": [
    "# RNA-Seq Analysis"
   ]
  },
  {
   "cell_type": "markdown",
   "metadata": {},
   "source": [
    "## Transcriptional Predictors of Carriage"
   ]
  },
  {
   "cell_type": "markdown",
   "metadata": {},
   "source": [
    "__Studies__: Mucosal | LAIV1 | LAIV2 | AGES  \n",
    "__Timepoint(s)__: baseline  \n",
    "__Method__: machine learning (DaMiRSeq)"
   ]
  },
  {
   "cell_type": "markdown",
   "metadata": {},
   "source": [
    "## Carriage-relate Transcriptional Differences at baseline"
   ]
  },
  {
   "cell_type": "markdown",
   "metadata": {},
   "source": [
    "__Studies__: Mucosal | LAIV1 | LAIV2 | AGES  \n",
    "__Timepoint(s)__: baseline  \n",
    "__Method__: Differential Expression Analysis (DESeq2)"
   ]
  },
  {
   "cell_type": "markdown",
   "metadata": {},
   "source": [
    "## Carriage-related Transcriptional Pertubations ($Day_x vs. baseline$)"
   ]
  },
  {
   "cell_type": "markdown",
   "metadata": {},
   "source": [
    "__Studies__: Mucosal | LAIV2 | AGES  \n",
    "__Timepoint(s)__: baseline, Day 2 and Day 9  \n",
    "__Method__: Differential Expression Analysis (DESeq2)"
   ]
  },
  {
   "cell_type": "code",
   "execution_count": 32,
   "metadata": {},
   "outputs": [
    {
     "data": {
      "text/html": [
       "<style>\n",
       ".dl-inline {width: auto; margin:0; padding: 0}\n",
       ".dl-inline>dt, .dl-inline>dd {float: none; width: auto; display: inline-block}\n",
       ".dl-inline>dt::after {content: \":\\0020\"; padding-right: .5ex}\n",
       ".dl-inline>dt:not(:first-of-type) {padding-left: .5ex}\n",
       "</style><dl class=dl-inline><dt>tidyverse</dt><dd>TRUE</dd><dt>data.table</dt><dd>TRUE</dd><dt>MultiAssayExperiment</dt><dd>TRUE</dd><dt>DESeq2</dt><dd>TRUE</dd><dt>BiocParallel</dt><dd>TRUE</dd></dl>\n"
      ],
      "text/latex": [
       "\\begin{description*}\n",
       "\\item[tidyverse] TRUE\n",
       "\\item[data.table] TRUE\n",
       "\\item[MultiAssayExperiment] TRUE\n",
       "\\item[DESeq2] TRUE\n",
       "\\item[BiocParallel] TRUE\n",
       "\\end{description*}\n"
      ],
      "text/markdown": [
       "tidyverse\n",
       ":   TRUEdata.table\n",
       ":   TRUEMultiAssayExperiment\n",
       ":   TRUEDESeq2\n",
       ":   TRUEBiocParallel\n",
       ":   TRUE\n",
       "\n"
      ],
      "text/plain": [
       "           tidyverse           data.table MultiAssayExperiment \n",
       "                TRUE                 TRUE                 TRUE \n",
       "              DESeq2         BiocParallel \n",
       "                TRUE                 TRUE "
      ]
     },
     "metadata": {},
     "output_type": "display_data"
    }
   ],
   "source": [
    "rm(list = ls())\n",
    "pkgs <- c('tidyverse','data.table','MultiAssayExperiment','DESeq2',\"BiocParallel\")\n",
    "suppressPackageStartupMessages(sapply(pkgs,require,character.only = T))\n",
    "register(MulticoreParam(3))"
   ]
  },
  {
   "cell_type": "code",
   "execution_count": 33,
   "metadata": {},
   "outputs": [],
   "source": [
    "create_tempData <- function(data.sub) {\n",
    "    if(!dir.exists) dir.create('temp')\n",
    "    count = cbind(gene_id = rownames(data.sub),assay(data.sub))\n",
    "    pheno = cbind(sample_id = colnames(data.sub), as.data.frame(colData(data.sub)))\n",
    "    write.table(count, 'temp/counts.csv', sep = '\\t', row.names = F)\n",
    "    write.table(pheno, 'temp/pheno.csv', sep = '\\t', row.names = F)\n",
    "}"
   ]
  },
  {
   "cell_type": "code",
   "execution_count": 34,
   "metadata": {},
   "outputs": [
    {
     "data": {
      "text/html": [
       "<table class=\"dataframe\">\n",
       "<caption>A data.frame: 6 × 17</caption>\n",
       "<thead>\n",
       "\t<tr><th></th><th scope=col>volunteer_id</th><th scope=col>study</th><th scope=col>group</th><th scope=col>sex</th><th scope=col>age</th><th scope=col>vaccine</th><th scope=col>vaccine_date</th><th scope=col>virus</th><th scope=col>virus_species</th><th scope=col>carriage</th><th scope=col>timepoint_naturalcarriage</th><th scope=col>serotype_naturalcarriage</th><th scope=col>date_inoculated</th><th scope=col>inoculation_dose</th><th scope=col>inoculation_serotype</th><th scope=col>timepoint</th><th scope=col>density</th></tr>\n",
       "\t<tr><th></th><th scope=col>&lt;chr&gt;</th><th scope=col>&lt;chr&gt;</th><th scope=col>&lt;chr&gt;</th><th scope=col>&lt;chr&gt;</th><th scope=col>&lt;int&gt;</th><th scope=col>&lt;chr&gt;</th><th scope=col>&lt;chr&gt;</th><th scope=col>&lt;chr&gt;</th><th scope=col>&lt;chr&gt;</th><th scope=col>&lt;chr&gt;</th><th scope=col>&lt;chr&gt;</th><th scope=col>&lt;chr&gt;</th><th scope=col>&lt;chr&gt;</th><th scope=col>&lt;dbl&gt;</th><th scope=col>&lt;chr&gt;</th><th scope=col>&lt;chr&gt;</th><th scope=col>&lt;dbl&gt;</th></tr>\n",
       "</thead>\n",
       "<tbody>\n",
       "\t<tr><th scope=row>152/01_D2</th><td>152/01 </td><td>GATES_DOSERANGING</td><td>NA</td><td>F</td><td>38</td><td>NA</td><td>NA</td><td>NA </td><td>NA       </td><td>NEG</td><td>NA</td><td>NA</td><td>14-11-2011</td><td>  9833</td><td>6B</td><td>D2</td><td>       NA</td></tr>\n",
       "\t<tr><th scope=row>154/02_D2</th><td>154/02 </td><td>GATES_DOSERANGING</td><td>NA</td><td>F</td><td>23</td><td>NA</td><td>NA</td><td>NA </td><td>NA       </td><td>NEG</td><td>NA</td><td>NA</td><td>14-11-2011</td><td> 11166</td><td>6B</td><td>D2</td><td>       NA</td></tr>\n",
       "\t<tr><th scope=row>183/164_D2</th><td>183/164</td><td>GATES_DOSERANGING</td><td>NA</td><td>F</td><td>24</td><td>NA</td><td>NA</td><td>NEG</td><td>Virus_Neg</td><td>NEG</td><td>NA</td><td>NA</td><td>18-06-2012</td><td>313333</td><td>6B</td><td>D2</td><td>       NA</td></tr>\n",
       "\t<tr><th scope=row>187/03_D2</th><td>187/03 </td><td>GATES_DOSERANGING</td><td>NA</td><td>F</td><td>20</td><td>NA</td><td>NA</td><td>NA </td><td>NA       </td><td>POS</td><td>NA</td><td>NA</td><td>14-11-2011</td><td> 11166</td><td>6B</td><td>D2</td><td>5.1343364</td></tr>\n",
       "\t<tr><th scope=row>188/04_D2</th><td>188/04 </td><td>GATES_DOSERANGING</td><td>NA</td><td>F</td><td>21</td><td>NA</td><td>NA</td><td>NEG</td><td>Virus_Neg</td><td>POS</td><td>NA</td><td>NA</td><td>05-12-2011</td><td> 54833</td><td>6B</td><td>D2</td><td>0.9063350</td></tr>\n",
       "\t<tr><th scope=row>189/05_D2</th><td>189/05 </td><td>GATES_DOSERANGING</td><td>NA</td><td>F</td><td>25</td><td>NA</td><td>NA</td><td>NA </td><td>NA       </td><td>POS</td><td>NA</td><td>NA</td><td>29-11-2011</td><td> 49500</td><td>6B</td><td>D2</td><td>0.2966652</td></tr>\n",
       "</tbody>\n",
       "</table>\n"
      ],
      "text/latex": [
       "A data.frame: 6 × 17\n",
       "\\begin{tabular}{r|lllllllllllllllll}\n",
       "  & volunteer\\_id & study & group & sex & age & vaccine & vaccine\\_date & virus & virus\\_species & carriage & timepoint\\_naturalcarriage & serotype\\_naturalcarriage & date\\_inoculated & inoculation\\_dose & inoculation\\_serotype & timepoint & density\\\\\n",
       "  & <chr> & <chr> & <chr> & <chr> & <int> & <chr> & <chr> & <chr> & <chr> & <chr> & <chr> & <chr> & <chr> & <dbl> & <chr> & <chr> & <dbl>\\\\\n",
       "\\hline\n",
       "\t152/01\\_D2 & 152/01  & GATES\\_DOSERANGING & NA & F & 38 & NA & NA & NA  & NA        & NEG & NA & NA & 14-11-2011 &   9833 & 6B & D2 &        NA\\\\\n",
       "\t154/02\\_D2 & 154/02  & GATES\\_DOSERANGING & NA & F & 23 & NA & NA & NA  & NA        & NEG & NA & NA & 14-11-2011 &  11166 & 6B & D2 &        NA\\\\\n",
       "\t183/164\\_D2 & 183/164 & GATES\\_DOSERANGING & NA & F & 24 & NA & NA & NEG & Virus\\_Neg & NEG & NA & NA & 18-06-2012 & 313333 & 6B & D2 &        NA\\\\\n",
       "\t187/03\\_D2 & 187/03  & GATES\\_DOSERANGING & NA & F & 20 & NA & NA & NA  & NA        & POS & NA & NA & 14-11-2011 &  11166 & 6B & D2 & 5.1343364\\\\\n",
       "\t188/04\\_D2 & 188/04  & GATES\\_DOSERANGING & NA & F & 21 & NA & NA & NEG & Virus\\_Neg & POS & NA & NA & 05-12-2011 &  54833 & 6B & D2 & 0.9063350\\\\\n",
       "\t189/05\\_D2 & 189/05  & GATES\\_DOSERANGING & NA & F & 25 & NA & NA & NA  & NA        & POS & NA & NA & 29-11-2011 &  49500 & 6B & D2 & 0.2966652\\\\\n",
       "\\end{tabular}\n"
      ],
      "text/markdown": [
       "\n",
       "A data.frame: 6 × 17\n",
       "\n",
       "| <!--/--> | volunteer_id &lt;chr&gt; | study &lt;chr&gt; | group &lt;chr&gt; | sex &lt;chr&gt; | age &lt;int&gt; | vaccine &lt;chr&gt; | vaccine_date &lt;chr&gt; | virus &lt;chr&gt; | virus_species &lt;chr&gt; | carriage &lt;chr&gt; | timepoint_naturalcarriage &lt;chr&gt; | serotype_naturalcarriage &lt;chr&gt; | date_inoculated &lt;chr&gt; | inoculation_dose &lt;dbl&gt; | inoculation_serotype &lt;chr&gt; | timepoint &lt;chr&gt; | density &lt;dbl&gt; |\n",
       "|---|---|---|---|---|---|---|---|---|---|---|---|---|---|---|---|---|---|\n",
       "| 152/01_D2 | 152/01  | GATES_DOSERANGING | NA | F | 38 | NA | NA | NA  | NA        | NEG | NA | NA | 14-11-2011 |   9833 | 6B | D2 |        NA |\n",
       "| 154/02_D2 | 154/02  | GATES_DOSERANGING | NA | F | 23 | NA | NA | NA  | NA        | NEG | NA | NA | 14-11-2011 |  11166 | 6B | D2 |        NA |\n",
       "| 183/164_D2 | 183/164 | GATES_DOSERANGING | NA | F | 24 | NA | NA | NEG | Virus_Neg | NEG | NA | NA | 18-06-2012 | 313333 | 6B | D2 |        NA |\n",
       "| 187/03_D2 | 187/03  | GATES_DOSERANGING | NA | F | 20 | NA | NA | NA  | NA        | POS | NA | NA | 14-11-2011 |  11166 | 6B | D2 | 5.1343364 |\n",
       "| 188/04_D2 | 188/04  | GATES_DOSERANGING | NA | F | 21 | NA | NA | NEG | Virus_Neg | POS | NA | NA | 05-12-2011 |  54833 | 6B | D2 | 0.9063350 |\n",
       "| 189/05_D2 | 189/05  | GATES_DOSERANGING | NA | F | 25 | NA | NA | NA  | NA        | POS | NA | NA | 29-11-2011 |  49500 | 6B | D2 | 0.2966652 |\n",
       "\n"
      ],
      "text/plain": [
       "           volunteer_id study             group sex age vaccine vaccine_date\n",
       "152/01_D2  152/01       GATES_DOSERANGING NA    F   38  NA      NA          \n",
       "154/02_D2  154/02       GATES_DOSERANGING NA    F   23  NA      NA          \n",
       "183/164_D2 183/164      GATES_DOSERANGING NA    F   24  NA      NA          \n",
       "187/03_D2  187/03       GATES_DOSERANGING NA    F   20  NA      NA          \n",
       "188/04_D2  188/04       GATES_DOSERANGING NA    F   21  NA      NA          \n",
       "189/05_D2  189/05       GATES_DOSERANGING NA    F   25  NA      NA          \n",
       "           virus virus_species carriage timepoint_naturalcarriage\n",
       "152/01_D2  NA    NA            NEG      NA                       \n",
       "154/02_D2  NA    NA            NEG      NA                       \n",
       "183/164_D2 NEG   Virus_Neg     NEG      NA                       \n",
       "187/03_D2  NA    NA            POS      NA                       \n",
       "188/04_D2  NEG   Virus_Neg     POS      NA                       \n",
       "189/05_D2  NA    NA            POS      NA                       \n",
       "           serotype_naturalcarriage date_inoculated inoculation_dose\n",
       "152/01_D2  NA                       14-11-2011        9833          \n",
       "154/02_D2  NA                       14-11-2011       11166          \n",
       "183/164_D2 NA                       18-06-2012      313333          \n",
       "187/03_D2  NA                       14-11-2011       11166          \n",
       "188/04_D2  NA                       05-12-2011       54833          \n",
       "189/05_D2  NA                       29-11-2011       49500          \n",
       "           inoculation_serotype timepoint density  \n",
       "152/01_D2  6B                   D2               NA\n",
       "154/02_D2  6B                   D2               NA\n",
       "183/164_D2 6B                   D2               NA\n",
       "187/03_D2  6B                   D2        5.1343364\n",
       "188/04_D2  6B                   D2        0.9063350\n",
       "189/05_D2  6B                   D2        0.2966652"
      ]
     },
     "metadata": {},
     "output_type": "display_data"
    }
   ],
   "source": [
    "meta <- fread('data/raw_data/MIXED/EHPC_Density_Data_12MARCH2020.tsv') %>% data.frame(row.names = 'sample_id')\n",
    "meta = meta %>% filter(!duplicated(volunteer_id)) %>% mutate(study = toupper(study))\n",
    "head(meta)"
   ]
  },
  {
   "cell_type": "markdown",
   "metadata": {},
   "source": [
    "### Mucosal"
   ]
  },
  {
   "cell_type": "code",
   "execution_count": 5,
   "metadata": {},
   "outputs": [],
   "source": [
    "data <- readRDS('data/tidy_data/MUCOSAL_rnaseq.rds')"
   ]
  },
  {
   "cell_type": "code",
   "execution_count": 6,
   "metadata": {},
   "outputs": [
    {
     "data": {
      "image/png": "[encoded data removed]",
      "text/plain": [
       "plot without title"
      ]
     },
     "metadata": {
      "image/png": {
       "height": 420,
       "width": 420
      }
     },
     "output_type": "display_data"
    }
   ],
   "source": [
    "temp = merge(colData(data), meta, by = 'volunteer_id', all = T) %>% as.data.frame %>%\n",
    "    mutate(sample_availability = ifelse(is.na(timepoint.x),NA,1))\n",
    "ggplot(temp, aes(ifelse(is.na(timepoint.x),'D2',timepoint.x), volunteer_id, fill = sample_availability)) +\n",
    "    geom_tile(show.legend = F) + facet_grid(sex~., scales = 'free') + theme_linedraw() +\n",
    "    labs(title = \"Sample Availability\", subtitle = \"RNA-Seq\", x = 'Timepoint', y = 'Volunteers')"
   ]
  },
  {
   "cell_type": "code",
   "execution_count": 7,
   "metadata": {},
   "outputs": [],
   "source": [
    "colData(data) = colData(data) %>% as.data.frame %>% rownames_to_column('sample_id_temp') %>% \n",
    "    merge(., meta, by = 'volunteer_id', all.x = T) %>% column_to_rownames('sample_id_temp') %>% DataFrame"
   ]
  },
  {
   "cell_type": "markdown",
   "metadata": {},
   "source": [
    "#### Women"
   ]
  },
  {
   "cell_type": "markdown",
   "metadata": {},
   "source": [
    "Carriage+"
   ]
  },
  {
   "cell_type": "code",
   "execution_count": 35,
   "metadata": {},
   "outputs": [],
   "source": [
    "# data.sub = data[,which(data$sex == 'F' & data$carriage == 'POS')]\n",
    "# # create_tempData(data.sub)\n",
    "\n",
    "# min_numSample_class = min(table(data.sub$sex, data.sub$carriage, data.sub$timepoint.x))\n",
    "# # rowSums(assay(data.sub))\n",
    "# dds <- DESeqDataSetFromMatrix(countData = as.matrix(assay(data.sub)),colData = colData(data.sub), design = ~ volunteer_id + timepoint.x)\n",
    "# dds <- DESeq(dds, parallel = T)\n",
    "# # resultsNames(dds)\n",
    "# res = results(dds, name = 'timepoint.x_D2_vs_baseline', parallel = T)\n",
    "# res.df = as.data.frame(res)"
   ]
  },
  {
   "cell_type": "markdown",
   "metadata": {},
   "source": [
    "Carriage -"
   ]
  },
  {
   "cell_type": "markdown",
   "metadata": {},
   "source": [
    "#### Men"
   ]
  },
  {
   "cell_type": "markdown",
   "metadata": {},
   "source": [
    "Carriage +"
   ]
  },
  {
   "cell_type": "markdown",
   "metadata": {},
   "source": [
    "Carriage -"
   ]
  },
  {
   "cell_type": "markdown",
   "metadata": {},
   "source": [
    "### LAIV2"
   ]
  },
  {
   "cell_type": "markdown",
   "metadata": {},
   "source": [
    "### AGES"
   ]
  },
  {
   "cell_type": "code",
   "execution_count": 89,
   "metadata": {},
   "outputs": [],
   "source": [
    "studies <- c('MUCOSAL', 'LAIV2', 'AGES')\n",
    "\n",
    "comparisons = expand.grid(study  = studies,\n",
    "                          carriage = c('POS','NEG'),\n",
    "                          sex = c('M','F')) %>% mutate(Up = NA, Down = NA)\n",
    "comparisons = comparisons[-1,]\n",
    "\n",
    "rnaseq_fnames <- list.files('data/tidy_data/', pattern = '_rnaseq',full.names = T)\n",
    "rnaseq_fnames = grep(paste0(studies, collapse = '|'),rnaseq_fnames,value = T)"
   ]
  },
  {
   "cell_type": "code",
   "execution_count": 90,
   "metadata": {},
   "outputs": [
    {
     "data": {
      "text/html": [
       "<style>\n",
       ".list-inline {list-style: none; margin:0; padding: 0}\n",
       ".list-inline>li {display: inline-block}\n",
       ".list-inline>li:not(:last-child)::after {content: \"\\00b7\"; padding: 0 .5ex}\n",
       "</style>\n",
       "<ol class=list-inline><li>'data/tidy_data//AGES_rnaseq.rds'</li><li>'data/tidy_data//LAIV2_rnaseq.rds'</li><li>'data/tidy_data//MUCOSAL_rnaseq.rds'</li></ol>\n"
      ],
      "text/latex": [
       "\\begin{enumerate*}\n",
       "\\item 'data/tidy\\_data//AGES\\_rnaseq.rds'\n",
       "\\item 'data/tidy\\_data//LAIV2\\_rnaseq.rds'\n",
       "\\item 'data/tidy\\_data//MUCOSAL\\_rnaseq.rds'\n",
       "\\end{enumerate*}\n"
      ],
      "text/markdown": [
       "1. 'data/tidy_data//AGES_rnaseq.rds'\n",
       "2. 'data/tidy_data//LAIV2_rnaseq.rds'\n",
       "3. 'data/tidy_data//MUCOSAL_rnaseq.rds'\n",
       "\n",
       "\n"
      ],
      "text/plain": [
       "[1] \"data/tidy_data//AGES_rnaseq.rds\"    \"data/tidy_data//LAIV2_rnaseq.rds\"  \n",
       "[3] \"data/tidy_data//MUCOSAL_rnaseq.rds\""
      ]
     },
     "metadata": {},
     "output_type": "display_data"
    }
   ],
   "source": [
    "rnaseq_fnames"
   ]
  },
  {
   "cell_type": "code",
   "execution_count": 91,
   "metadata": {},
   "outputs": [],
   "source": [
    "rnaseq.data <- lapply(rnaseq_fnames, readRDS) %>% setNames(gsub('_.*','',basename(rnaseq_fnames)))"
   ]
  },
  {
   "cell_type": "code",
   "execution_count": 92,
   "metadata": {},
   "outputs": [],
   "source": [
    "for(study.id in studies) { # study.id = studies[1]\n",
    "    pheno = meta %>% filter(study == study.id) %>% select(-timepoint)\n",
    "    colData(rnaseq.data[[study.id]]) = colData(rnaseq.data[[study.id]]) %>% as.data.frame %>% \n",
    "    rownames_to_column('sample_id_temp') %>% merge(., pheno, by = 'volunteer_id', all.x = T) %>%\n",
    "    column_to_rownames('sample_id_temp') %>% DataFrame\n",
    "}"
   ]
  },
  {
   "cell_type": "code",
   "execution_count": 93,
   "metadata": {},
   "outputs": [],
   "source": [
    "# lapply(rnaseq.data, colData)"
   ]
  },
  {
   "cell_type": "code",
   "execution_count": 94,
   "metadata": {},
   "outputs": [],
   "source": [
    "subset_rnaseq <- function(data, sex, carriage) data[,which(data$sex == sex & data$carriage == carriage)]"
   ]
  },
  {
   "cell_type": "code",
   "execution_count": 97,
   "metadata": {},
   "outputs": [
    {
     "name": "stderr",
     "output_type": "stream",
     "text": [
      "Study: LAIV2\t|\tCarriage: POS\t|\tSex: M\n",
      "\n",
      "Study: AGES\t|\tCarriage: POS\t|\tSex: M\n",
      "\n",
      "Study: MUCOSAL\t|\tCarriage: NEG\t|\tSex: M\n",
      "\n",
      "Study: LAIV2\t|\tCarriage: NEG\t|\tSex: M\n",
      "\n",
      "Study: AGES\t|\tCarriage: NEG\t|\tSex: M\n",
      "\n",
      "Study: MUCOSAL\t|\tCarriage: POS\t|\tSex: F\n",
      "\n",
      "Study: LAIV2\t|\tCarriage: POS\t|\tSex: F\n",
      "\n",
      "Study: AGES\t|\tCarriage: POS\t|\tSex: F\n",
      "\n",
      "Study: MUCOSAL\t|\tCarriage: NEG\t|\tSex: F\n",
      "\n",
      "Study: LAIV2\t|\tCarriage: NEG\t|\tSex: F\n",
      "\n",
      "Study: AGES\t|\tCarriage: NEG\t|\tSex: F\n",
      "\n"
     ]
    }
   ],
   "source": [
    "rnaseq.subsets  = apply(comparisons, 1, function(df) { # df = comparisons[1,];df\n",
    "    study = df[1]; carriage = df[2]; sex = df[3]\n",
    "    message(paste0('Study: ',study, '\\t|\\tCarriage: ',carriage,'\\t|\\tSex: ',sex))\n",
    "    return(subset_rnaseq(rnaseq.data[[study]], sex, carriage))\n",
    "})"
   ]
  },
  {
   "cell_type": "code",
   "execution_count": null,
   "metadata": {},
   "outputs": [],
   "source": [
    "rnaseq.subsets"
   ]
  },
  {
   "cell_type": "markdown",
   "metadata": {},
   "source": [
    "## Time-wise Transcriptional Profiles related to Carriage Development\n",
    "Look: https://academic.oup.com/bioinformatics/article/21/suppl_1/i159/203147"
   ]
  },
  {
   "cell_type": "code",
   "execution_count": 86,
   "metadata": {},
   "outputs": [],
   "source": [
    "temp = rnaseq.data$MUCOSAL"
   ]
  },
  {
   "cell_type": "code",
   "execution_count": 87,
   "metadata": {},
   "outputs": [
    {
     "data": {
      "text/plain": [
       "   \n",
       "    NEG POS\n",
       "  F  11   9\n",
       "  M   6   1"
      ]
     },
     "metadata": {},
     "output_type": "display_data"
    }
   ],
   "source": [
    "table(temp$sex, temp$carriage)"
   ]
  },
  {
   "cell_type": "code",
   "execution_count": null,
   "metadata": {},
   "outputs": [],
   "source": []
  },
  {
   "cell_type": "code",
   "execution_count": null,
   "metadata": {},
   "outputs": [],
   "source": []
  }
 ],
 "metadata": {
  "kernelspec": {
   "display_name": "R",
   "language": "R",
   "name": "ir"
  },
  "language_info": {
   "codemirror_mode": "r",
   "file_extension": ".r",
   "mimetype": "text/x-r-source",
   "name": "R",
   "pygments_lexer": "r",
   "version": "4.0.4"
  }
 },
 "nbformat": 4,
 "nbformat_minor": 4
}
